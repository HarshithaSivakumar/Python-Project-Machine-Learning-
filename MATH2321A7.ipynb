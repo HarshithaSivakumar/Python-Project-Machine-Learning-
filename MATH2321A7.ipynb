{
  "nbformat": 4,
  "nbformat_minor": 0,
  "metadata": {
    "colab": {
      "provenance": []
    },
    "kernelspec": {
      "name": "python3",
      "display_name": "Python 3"
    },
    "language_info": {
      "name": "python"
    }
  },
  "cells": [
    {
      "cell_type": "code",
      "execution_count": 17,
      "metadata": {
        "id": "9MNdXj-buX9l"
      },
      "outputs": [],
      "source": [
        "import numpy as np\n",
        "import pandas as pd\n",
        "import matplotlib.pyplot as plt\n",
        "from mpl_toolkits.mplot3d import Axes3D\n",
        "from sklearn.preprocessing import StandardScaler\n",
        "from sklearn.decomposition import PCA\n"
      ]
    },
    {
      "cell_type": "code",
      "source": [
        "# however you like, as long as it is all suitable for the assignment.\n",
        "def groupScatter2(groups):\n",
        "   ax = plt.gca()\n",
        "   for key, group in groups:\n",
        "      ax.scatter(group.PC1, group.PC2, s=10, label=key, color=colors[key], marker=markers[key], alpha=0.5)\n",
        "   ax.legend()\n",
        "   plt.xlabel('PC1')\n",
        "   plt.ylabel('PC2')\n",
        "   ax.set_xlim(a1,a2)\n",
        "   ax.set_ylim(a1,a2)"
      ],
      "metadata": {
        "id": "n_q9W1SbwYJz"
      },
      "execution_count": 18,
      "outputs": []
    },
    {
      "cell_type": "code",
      "source": [
        "def groupScatter3(groups):\n",
        "   ax = plt.gca()\n",
        "   for key, group in groups:\n",
        "      ax.scatter(group.PC1, group.PC2, group.PC3, s=10, label=key, color=colors[key], marker=markers[key], alpha=0.5)\n",
        "   ax.legend()\n",
        "   ax.set_xlabel('PC1')\n",
        "   ax.set_ylabel('PC2')\n",
        "   ax.set_zlabel('PC3')\n",
        "   ax.set_xlim3d(a1,a2)\n",
        "   ax.set_ylim3d(a1,a2)\n",
        "   ax.set_zlim3d(a1,a2)\n"
      ],
      "metadata": {
        "id": "yeHf87Upwdz5"
      },
      "execution_count": 19,
      "outputs": []
    },
    {
      "cell_type": "code",
      "source": [
        "colors  = {'Taseko BC':'r', 'Grassy Island BC':'g', 'E. Russia':'b', 'Greenland':'k',}\n",
        "markers = {'Taseko BC':'.', 'Grassy Island BC':'.', 'E. Russia':'.', 'Greenland':'.',}\n",
        "# Define plot axis limits (don't change these!):\n",
        "a1 = -10 # DON'T CHANGE THIS\n",
        "a2 =  10 # DON'T CHANGE THIS\n"
      ],
      "metadata": {
        "id": "xY-wEBtywpc3"
      },
      "execution_count": 20,
      "outputs": []
    },
    {
      "cell_type": "code",
      "source": [
        "buchia = pd.read_csv('buchia.csv')\n",
        "\n",
        "# Print some information about the loaded data\n",
        "print(buchia.head())  # Check the first few rows of the DataFrame\n",
        "print(buchia.info())"
      ],
      "metadata": {
        "colab": {
          "base_uri": "https://localhost:8080/"
        },
        "id": "GVaD7hfi2Gui",
        "outputId": "6c8effcc-2444-4ad0-9d4a-300083e2b21f"
      },
      "execution_count": 21,
      "outputs": [
        {
          "output_type": "stream",
          "name": "stdout",
          "text": [
            "    Location         J         I       Ld        Lv        Wa        Wp  \\\n",
            "0  Taseko BC  17.40690 -11.35860  2.30469  2.003470  1.649000  1.317150   \n",
            "1  Taseko BC  13.72180  -8.14460  1.39880  0.992295  0.835080  0.723899   \n",
            "2  Taseko BC  10.31080 -12.20650  2.60316  2.248300  1.709080  1.046780   \n",
            "3  Taseko BC  12.07540 -10.83030  2.42738  1.763230  1.236510  0.784577   \n",
            "4  Taseko BC   4.66833  -5.20979  1.54111  1.121260  0.809059  0.559734   \n",
            "\n",
            "         Dd       Dv        In     Delta  \n",
            "0  1.203080  3.24611  0.938409  0.145662  \n",
            "1  0.975138  1.49029  0.588475  0.166572  \n",
            "2  1.446370  3.33082  0.709000  0.195045  \n",
            "3  1.507450  2.80939  0.687856  0.160851  \n",
            "4  0.910708  1.89792  0.487325  0.110510  \n",
            "<class 'pandas.core.frame.DataFrame'>\n",
            "RangeIndex: 1523 entries, 0 to 1522\n",
            "Data columns (total 11 columns):\n",
            " #   Column    Non-Null Count  Dtype  \n",
            "---  ------    --------------  -----  \n",
            " 0   Location  1523 non-null   object \n",
            " 1   J         1523 non-null   float64\n",
            " 2   I         1523 non-null   float64\n",
            " 3   Ld        1523 non-null   float64\n",
            " 4   Lv        1523 non-null   float64\n",
            " 5   Wa        1523 non-null   float64\n",
            " 6   Wp        1523 non-null   float64\n",
            " 7   Dd        1523 non-null   float64\n",
            " 8   Dv        1523 non-null   float64\n",
            " 9   In        1523 non-null   float64\n",
            " 10  Delta     1523 non-null   float64\n",
            "dtypes: float64(10), object(1)\n",
            "memory usage: 131.0+ KB\n",
            "None\n"
          ]
        }
      ]
    },
    {
      "cell_type": "code",
      "source": [
        "A = buchia.drop('Location', axis=1)"
      ],
      "metadata": {
        "id": "k__hcGkD2gRo"
      },
      "execution_count": 22,
      "outputs": []
    },
    {
      "cell_type": "code",
      "source": [
        "scaler = StandardScaler()\n",
        "X = scaler.fit_transform(A)"
      ],
      "metadata": {
        "id": "_1v523nePPjX"
      },
      "execution_count": 23,
      "outputs": []
    },
    {
      "cell_type": "code",
      "source": [
        "pca = PCA()\n",
        "X_pca = pca.fit_transform(X)"
      ],
      "metadata": {
        "id": "iIra18l8PS_e"
      },
      "execution_count": 24,
      "outputs": []
    },
    {
      "cell_type": "code",
      "source": [
        "eigenvalues = pca.explained_variance_\n",
        "print(eigenvalues)"
      ],
      "metadata": {
        "colab": {
          "base_uri": "https://localhost:8080/"
        },
        "id": "O6EVN0zMPVT6",
        "outputId": "88f6025e-de87-4d83-bb69-b0c9fb478df3"
      },
      "execution_count": 25,
      "outputs": [
        {
          "output_type": "stream",
          "name": "stdout",
          "text": [
            "[6.65380637 1.82837722 0.61367128 0.23519443 0.1841071  0.17200264\n",
            " 0.12283048 0.11132335 0.05095089 0.03430653]\n"
          ]
        }
      ]
    },
    {
      "cell_type": "code",
      "source": [
        "eigenvalue_ratios = eigenvalues / np.sum(eigenvalues)\n",
        "print(eigenvalue_ratios)"
      ],
      "metadata": {
        "colab": {
          "base_uri": "https://localhost:8080/"
        },
        "id": "hBq0hmo9Pbcj",
        "outputId": "cf33e46a-fc9b-48ca-e539-f2b694d5114f"
      },
      "execution_count": 26,
      "outputs": [
        {
          "output_type": "stream",
          "name": "stdout",
          "text": [
            "[0.66494375 0.18271767 0.06132683 0.023504   0.01839862 0.01718897\n",
            " 0.01227498 0.01112503 0.00509174 0.0034284 ]\n"
          ]
        }
      ]
    },
    {
      "cell_type": "code",
      "source": [
        "sum_eigenvalue_ratios = np.sum(eigenvalue_ratios)\n",
        "print(sum_eigenvalue_ratios)"
      ],
      "metadata": {
        "colab": {
          "base_uri": "https://localhost:8080/"
        },
        "id": "_N8ZPq9mPtII",
        "outputId": "498fad4d-4c82-4032-8231-3b0f601d3798"
      },
      "execution_count": 27,
      "outputs": [
        {
          "output_type": "stream",
          "name": "stdout",
          "text": [
            "0.9999999999999998\n"
          ]
        }
      ]
    },
    {
      "cell_type": "code",
      "source": [
        "print(\"Eigenvalues\")\n",
        "print(eigenvalues)\n",
        "print(\"eigenvalue ratios\")\n",
        "print(eigenvalue_ratios)\n",
        "print(\"sum of eigenvalue ratios\")\n",
        "print(sum_eigenvalue_ratios)\n",
        "# Calculate the percent of total variation explained by the first three principal components\n",
        "percent_variance_explained = np.sum(eigenvalue_ratios[:3]) * 100\n",
        "print(\"\\nPercentage of Total Variation Explained by the First Three PCs:\", percent_variance_explained)"
      ],
      "metadata": {
        "colab": {
          "base_uri": "https://localhost:8080/"
        },
        "id": "P8DUCRVaQak2",
        "outputId": "2f351642-0e59-4b61-d073-e8713830b3e6"
      },
      "execution_count": 28,
      "outputs": [
        {
          "output_type": "stream",
          "name": "stdout",
          "text": [
            "Eigenvalues\n",
            "[6.65380637 1.82837722 0.61367128 0.23519443 0.1841071  0.17200264\n",
            " 0.12283048 0.11132335 0.05095089 0.03430653]\n",
            "eigenvalue ratios\n",
            "[0.66494375 0.18271767 0.06132683 0.023504   0.01839862 0.01718897\n",
            " 0.01227498 0.01112503 0.00509174 0.0034284 ]\n",
            "sum of eigenvalue ratios\n",
            "0.9999999999999998\n",
            "\n",
            "Percentage of Total Variation Explained by the First Three PCs: 90.89882543048904\n"
          ]
        }
      ]
    },
    {
      "cell_type": "markdown",
      "source": [
        "1)The total sum of the eigenvalue ratios is almost 1, but not exactly. This slight difference is because of rounding during the calculation. It's okay to say that the sum is about 1, as the small variation is likely due to how numbers are handled in the calculations.\n",
        "\n",
        "2)Approximately 90.90% of the data's variability is explained by the first three principal components. This suggests that these three components capture a large portion of the overall patterns in the data. Typically, in analyses like this, people often set a threshold, like 90% or 95%, to decide how many principal components to keep. In this case, the first three components already cover a significant part of the total variation."
      ],
      "metadata": {
        "id": "tGt5d-scTN5A"
      }
    }
  ]
}